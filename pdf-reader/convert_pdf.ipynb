{
 "cells": [
  {
   "cell_type": "code",
   "execution_count": 2,
   "metadata": {},
   "outputs": [],
   "source": [
    "import pdfplumber\n",
    "import pandas as pd"
   ]
  },
  {
   "cell_type": "code",
   "execution_count": null,
   "metadata": {},
   "outputs": [
    {
     "name": "stdout",
     "output_type": "stream",
     "text": [
      "✅ Extracted 1441 rows successfully!\n"
     ]
    }
   ],
   "source": [
    "all_data = [[\"Name\", \"Code\", \"Physique 1\", \"Moyenne_1\", \"Credit_1\", \"Algebre 1\", \"Analyse 1\", \"Moyenne_2\", \"Credit_2\", \"Algorithmique et Structure de Donné 1\", \"Structure Machine 1\", \"Moyenne_3\", \"Credit_3\", \"Langue Etranger 1\", \"Expression Scientifique Terminologie\", \"Moyenne_4\", \"Credit_4\", \"Semestre Credit\", \"Moyenne Semestre\"]]\n",
    "\n",
    "first_line = []\n",
    "second_line = []\n",
    "i = 0\n",
    "with pdfplumber.open(\"deliberation.pdf\") as pdf:\n",
    "    for page_num, page in enumerate(pdf.pages, start=1):\n",
    "        table = page.extract_table()\n",
    "        if i == 0:\n",
    "            first_line += table[0]\n",
    "            second_line += table[1]\n",
    "            i += 1\n",
    "        if table:\n",
    "            table = table[2:]\n",
    "            all_data.extend(table)\n",
    "\n",
    "\n",
    "df = pd.DataFrame(all_data)\n",
    "df.to_csv(\"students_data.csv\", index=False, quoting=1, sep=\",\", header=False)\n",
    "\n",
    "print(f\"✅ Extracted {len(df)} rows successfully!\")\n"
   ]
  },
  {
   "cell_type": "code",
   "execution_count": null,
   "metadata": {},
   "outputs": [],
   "source": []
  }
 ],
 "metadata": {
  "kernelspec": {
   "display_name": ".venv",
   "language": "python",
   "name": "python3"
  },
  "language_info": {
   "codemirror_mode": {
    "name": "ipython",
    "version": 3
   },
   "file_extension": ".py",
   "mimetype": "text/x-python",
   "name": "python",
   "nbconvert_exporter": "python",
   "pygments_lexer": "ipython3",
   "version": "3.13.2"
  }
 },
 "nbformat": 4,
 "nbformat_minor": 2
}
