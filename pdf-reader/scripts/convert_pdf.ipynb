{
 "cells": [
  {
   "cell_type": "code",
   "execution_count": 131,
   "metadata": {},
   "outputs": [],
   "source": [
    "import pdfplumber\n",
    "import pandas as pd\n",
    "import arabic_reshaper\n",
    "from bidi.algorithm import get_display\n",
    "from google import genai\n",
    "from google.genai import types\n",
    "from dotenv import load_dotenv\n",
    "import os\n",
    "load_dotenv()\n",
    "\n",
    "key = os.getenv(\"GOOGLE_API_KEY\")"
   ]
  },
  {
   "cell_type": "code",
   "execution_count": 132,
   "metadata": {},
   "outputs": [],
   "source": [
    "client = genai.Client(api_key=key)\n",
    "sys_instruct = \"\"\"\n",
    "You are an intelligent assistant designed to organize CSV column titles efficiently in both English and French. Your tasks are as follows:\n",
    "\n",
    "1. **Reorder the Column Titles:**\n",
    "   - Given a single CSV line containing column titles, identify and arrange them in their correct order. Handle both English and French column titles effectively.\n",
    "\n",
    "2. **Return an Ordered CSV Line:**\n",
    "   - Output the corrected column titles in CSV format as a single text line.\n",
    "\n",
    "### Example Input (French)\n",
    "```\n",
    "Name,Code,1(Mécanique Physique point) du,Moyenne UE,Crédit UE,Algèbre 1,Analyse 1,Algorithmique données structure 1 de et,Moyenne UE\n",
    "```\n",
    "\n",
    "### Example Output\n",
    "```\n",
    "Name,Code,Mécanique du point Physique 1,Moyenne UE 1,Crédit UE,Algèbre 1,Analyse 1,Algorithmique et structure de données 1,Moyenne UE 2\n",
    "```\n",
    "\n",
    "### Guidelines\n",
    "- Reorder column titles to ensure a natural and correct flow of text in both English and French.\n",
    "- Maintain logical grouping when ordering the columns.\n",
    "- **Preserve all columns; do not remove, merge, or omit any columns, even if they appear redundant.**\n",
    "- **Preserve all words; do not reduce or modify the content within column titles.**\n",
    "- **Ensure the total number of columns in the output matches the number of columns in the input.**\n",
    "- **If identical column titles are repeated, add sequential numbering (e.g., `Moyenne UE 1`, `Moyenne UE 2`) — ensure no duplicate titles are removed.**\n",
    "- **Remove any numbers at the start of a column title and reposition them appropriately.**\n",
    "- **Remove all newline characters within column names to ensure each column appears as a continuous text string.**\n",
    "- Pay close attention to French grammar rules when reordering text to ensure proper structure.\n",
    "\n",
    "### Important Notes\n",
    "- Ensure the output follows CSV format as a single text line.\n",
    "- Consistency and clarity are key in the naming convention.\n",
    "- Do not ask for clarification; complete the task directly based on the provided instructions.\n",
    "\n",
    "\n",
    "\"\"\""
   ]
  },
  {
   "cell_type": "code",
   "execution_count": 133,
   "metadata": {},
   "outputs": [],
   "source": [
    "def fix_text_order(text):\n",
    "    lines = text.strip().split(\"\\n\")\n",
    "    corrected_text = ' '.join(lines).strip()\n",
    "    return corrected_text\n",
    "\n",
    "def generate_titles(titles):\n",
    "    response = client.models.generate_content(\n",
    "    model=\"gemini-2.0-flash\",\n",
    "    config=types.GenerateContentConfig(\n",
    "        system_instruction=sys_instruct),\n",
    "    contents=[titles],\n",
    "    )\n",
    "    return response.text\n",
    "\n",
    "\n",
    "def reshape_arabic(text):\n",
    "    try:\n",
    "        return get_display(arabic_reshaper.reshape(text)) if text else text\n",
    "    except Exception:\n",
    "        return text \n",
    "    \n",
    "\n",
    "def remove_newlines(text_list):\n",
    "    for i in range(len(text_list)):\n",
    "        text_list[i] = text_list[i].replace('\\n', '')\n",
    "    return text_list\n"
   ]
  },
  {
   "cell_type": "code",
   "execution_count": 134,
   "metadata": {},
   "outputs": [
    {
     "name": "stdout",
     "output_type": "stream",
     "text": [
      "✅ Extracted 218 rows successfully!\n"
     ]
    }
   ],
   "source": [
    "all_data = []\n",
    "\n",
    "i = 0\n",
    "\n",
    "file_name = \"Deliberation_2024_2025_L3_S5\"\n",
    "\n",
    "with pdfplumber.open(f\"../data/{file_name}.pdf\") as pdf:\n",
    "    for page_num, page in enumerate(pdf.pages, start=1):\n",
    "        table = page.extract_table()\n",
    "        if table:\n",
    "            if i == 0:\n",
    "                table = table[1:]\n",
    "                table[0][0] = \"Name\"\n",
    "                table[0][1] = \"Code\"\n",
    "                transformed_line = fix_text_order(\",\".join(table[0]))\n",
    "                llm_process_line = generate_titles(transformed_line).split(\",\")\n",
    "                table[0] = remove_newlines(llm_process_line)\n",
    "            else:\n",
    "                table = table[2:]\n",
    "            i += 1\n",
    "            reshaped_table = [[reshape_arabic(cell) for cell in row] for row in table]\n",
    "            corrected_table = [\n",
    "                [fix_text_order(cell) if cell else '' for cell in row]\n",
    "                for row in reshaped_table\n",
    "            ]\n",
    "            all_data.extend(corrected_table)\n",
    "\n",
    "\n",
    "df = pd.DataFrame(all_data)\n",
    "df.to_csv(f\"../data/{file_name}.csv\", index=False, quoting=1, sep=\",\", header=False)\n",
    "\n",
    "print(f\"✅ Extracted {len(df)} rows successfully!\")"
   ]
  }
 ],
 "metadata": {
  "kernelspec": {
   "display_name": ".venv",
   "language": "python",
   "name": "python3"
  },
  "language_info": {
   "codemirror_mode": {
    "name": "ipython",
    "version": 3
   },
   "file_extension": ".py",
   "mimetype": "text/x-python",
   "name": "python",
   "nbconvert_exporter": "python",
   "pygments_lexer": "ipython3",
   "version": "3.13.2"
  }
 },
 "nbformat": 4,
 "nbformat_minor": 2
}
