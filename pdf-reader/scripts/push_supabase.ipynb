{
 "cells": [
  {
   "cell_type": "code",
   "execution_count": 1,
   "metadata": {},
   "outputs": [],
   "source": [
    "import pandas as pd\n",
    "import os\n",
    "from dotenv import load_dotenv\n",
    "from supabase import create_client, Client\n",
    "import psycopg2\n",
    "from psycopg2 import sql"
   ]
  },
  {
   "cell_type": "code",
   "execution_count": 8,
   "metadata": {},
   "outputs": [],
   "source": [
    "# creating supabase client\n",
    "load_dotenv()\n",
    "\n",
    "url: str = os.getenv(\"SUPABASE_URL\")\n",
    "key: str = os.getenv(\"SUPABASE_KEY\")\n",
    "db_url: str = os.getenv(\"DATABASE_URL\")\n",
    "client: Client = create_client(url, key)"
   ]
  },
  {
   "cell_type": "code",
   "execution_count": null,
   "metadata": {},
   "outputs": [],
   "source": [
    "# getting the student data from csv file\n",
    "data = pd.read_csv(\"../data/deliberation_postprocess.csv\")\n",
    "\n",
    "# matching column names\n",
    "match_dict = {\n",
    "    'Name': 'name',\n",
    "    'Code': 'code',\n",
    "    'Physique 1': 'phy1',\n",
    "    'Moyenne_1': 'moyenne_a',\n",
    "    'Credit_1': 'credit_a',\n",
    "    'Algebre 1': 'algebre1',\n",
    "    'Analyse 1': 'analyse1',\n",
    "    'Moyenne_2': 'moyenne_b',\n",
    "    'Credit_2': 'credit_b',\n",
    "    'Algorithmique et Structure de Donné 1': 'asd1',\n",
    "    'Structure Machine 1': 'sm1',\n",
    "    'Moyenne_3': 'moyenne_c',\n",
    "    'Credit_3': 'credit_c',\n",
    "    'Langue Etranger 1': 'le1',\n",
    "    'Expression Scientifique Terminologie': 'est',\n",
    "    'Moyenne_4': 'moyenne_d',\n",
    "    'Credit_4': 'credit_d',\n",
    "    'Semestre Credit': 'semestre_credit',\n",
    "    'Moyenne Semestre': 'moyenne_semestre',\n",
    "    'Section': 'section'\n",
    "}\n",
    "\n",
    "# renaming\n",
    "data = data.rename(columns=match_dict)"
   ]
  },
  {
   "cell_type": "code",
   "execution_count": 10,
   "metadata": {},
   "outputs": [],
   "source": [
    "\n",
    "\n",
    "# sechema\n",
    "table_schema = {\n",
    "    \"name\": \"text\",\n",
    "    \"code\": \"text\",\n",
    "    \"phy1\": \"float8\",\n",
    "    \"moyenne_a\": \"float8\",\n",
    "    \"credit_a\": \"int8\",\n",
    "    \"algebre1\": \"float8\",\n",
    "    \"analyse1\": \"float8\",\n",
    "    \"moyenne_b\": \"float8\",\n",
    "    \"credit_b\": \"int8\",\n",
    "    \"asd1\": \"float8\",\n",
    "    \"sm1\": \"float8\",\n",
    "    \"moyenne_c\": \"float8\",\n",
    "    \"credit_c\": \"int8\",\n",
    "    \"le1\": \"float8\",\n",
    "    \"est\": \"float8\",\n",
    "    \"moyenne_d\": \"float8\",\n",
    "    \"credit_d\": \"int8\",\n",
    "    \"semestre_credit\": \"int8\",\n",
    "    \"moyenne_semestre\": \"float8\",\n",
    "    \"section\": \"float8\"\n",
    "}\n",
    "\n",
    "\n",
    "# table name \n",
    "table_name = \"analysis_student_grades_usthb\"\n",
    "columns = \", \".join([f\"{col} {dtype}\" for col, dtype in table_schema.items()])\n",
    "\n",
    "# table creation query\n",
    "create_table_query = f\"\"\"\n",
    "CREATE TABLE IF NOT EXISTS {table_name} (\n",
    "    id UUID DEFAULT gen_random_uuid() PRIMARY KEY,\n",
    "    {columns}\n",
    ")\n",
    "\"\"\"\n"
   ]
  },
  {
   "cell_type": "code",
   "execution_count": 11,
   "metadata": {},
   "outputs": [
    {
     "name": "stdout",
     "output_type": "stream",
     "text": [
      "Connection successful!\n",
      "Table 'analysis_student_grades_usthb' already exists.\n"
     ]
    }
   ],
   "source": [
    "conn_details = {\n",
    "    \"dbname\": os.getenv(\"DB_NAME\"),\n",
    "    \"user\": os.getenv(\"DB_USER\"),\n",
    "    \"password\": os.getenv(\"DB_PASSWORD\"),\n",
    "    \"host\": os.getenv(\"DB_HOST\"),\n",
    "    \"port\": os.getenv(\"DB_PORT\"),\n",
    "    \"sslmode\": os.getenv(\"DB_SSLMODE\")\n",
    "}\n",
    "\n",
    "\n",
    "\n",
    "try:\n",
    "    conn = psycopg2.connect(**conn_details)\n",
    "    print(\"Connection successful!\")\n",
    "\n",
    "    cursor = conn.cursor()\n",
    "    cursor.execute(\n",
    "        sql.SQL(\"\"\"\n",
    "            SELECT EXISTS (\n",
    "                SELECT 1 FROM information_schema.tables\n",
    "                WHERE table_name = %s\n",
    "            );\n",
    "        \"\"\"),\n",
    "        [table_name]\n",
    "    )\n",
    "\n",
    "    table_exists = cursor.fetchone()[0]\n",
    "\n",
    "    if table_exists:\n",
    "        print(f\"Table '{table_name}' already exists.\")\n",
    "    else:\n",
    "        cursor.execute(create_table_query)\n",
    "        conn.commit()\n",
    "        print(f\"Table '{table_name}' created successfully.\")\n",
    "\n",
    "    cursor.close()\n",
    "    conn.close()\n",
    "\n",
    "except Exception as e:\n",
    "    print(f\"Failed to connect or execute query: {e}\")\n"
   ]
  },
  {
   "cell_type": "code",
   "execution_count": null,
   "metadata": {},
   "outputs": [
    {
     "name": "stdout",
     "output_type": "stream",
     "text": [
      "Inserted 0 rows successfully\n",
      "Inserted 100 rows successfully\n",
      "Inserted 200 rows successfully\n",
      "Inserted 300 rows successfully\n",
      "Inserted 400 rows successfully\n",
      "Inserted 500 rows successfully\n",
      "Inserted 600 rows successfully\n",
      "Inserted 700 rows successfully\n",
      "Inserted 800 rows successfully\n",
      "Inserted 900 rows successfully\n",
      "Inserted 1000 rows successfully\n",
      "Inserted 1100 rows successfully\n",
      "Inserted 1200 rows successfully\n",
      "Inserted 1300 rows successfully\n",
      "Inserted 1400 rows successfully\n"
     ]
    }
   ],
   "source": [
    "# inserting data\n",
    "i = 0\n",
    "for row in data.to_dict(orient='records'):\n",
    "    response = client.table(\"analysis_student_grades_usthb\").insert(row).execute()\n",
    "    if i % 100 == 0:\n",
    "        print(f\"Inserted {i} rows successfully\")\n",
    "    i += 1\n",
    "print(f\"{i} Rows inserted successfully\")"
   ]
  },
  {
   "cell_type": "code",
   "execution_count": null,
   "metadata": {},
   "outputs": [],
   "source": []
  }
 ],
 "metadata": {
  "kernelspec": {
   "display_name": ".venv",
   "language": "python",
   "name": "python3"
  },
  "language_info": {
   "codemirror_mode": {
    "name": "ipython",
    "version": 3
   },
   "file_extension": ".py",
   "mimetype": "text/x-python",
   "name": "python",
   "nbconvert_exporter": "python",
   "pygments_lexer": "ipython3",
   "version": "3.13.2"
  }
 },
 "nbformat": 4,
 "nbformat_minor": 2
}
