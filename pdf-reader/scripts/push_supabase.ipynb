{
 "cells": [
  {
   "cell_type": "code",
   "execution_count": 114,
   "metadata": {},
   "outputs": [],
   "source": [
    "import pandas as pd\n",
    "from pandas.api.types import is_float_dtype, is_integer_dtype, is_object_dtype\n",
    "import os\n",
    "from dotenv import load_dotenv\n",
    "from supabase import create_client, Client\n",
    "import psycopg2\n",
    "from psycopg2 import sql\n",
    "import unicodedata\n",
    "from google import genai\n",
    "from google.genai import types"
   ]
  },
  {
   "cell_type": "code",
   "execution_count": 115,
   "metadata": {},
   "outputs": [],
   "source": [
    "load_dotenv()\n",
    "\n",
    "file_name = \"Deliberation_2024_2025_L3_S5\"\n",
    "url: str = os.getenv(\"SUPABASE_URL\")\n",
    "key: str = os.getenv(\"SUPABASE_KEY\")\n",
    "key_llm = os.getenv(\"GOOGLE_API_KEY\")\n",
    "db_url: str = os.getenv(\"DATABASE_URL\")\n",
    "client: Client = create_client(url, key)\n",
    "client_llm = genai.Client(api_key=key_llm)"
   ]
  },
  {
   "cell_type": "code",
   "execution_count": 116,
   "metadata": {},
   "outputs": [],
   "source": [
    "data = pd.read_csv(f\"../data/{file_name}_postprocess.csv\")\n",
    "\n",
    "def replace_french_e(text):\n",
    "    normalized_text = unicodedata.normalize('NFD', text)\n",
    "    transformed_text = ''.join(char for char in normalized_text if not unicodedata.combining(char))\n",
    "    return transformed_text\n",
    "\n",
    "def remove_newlines(text_list):\n",
    "    for i in range(len(text_list)):\n",
    "        text_list[i] = text_list[i].replace('\\n', '')\n",
    "    return text_list"
   ]
  },
  {
   "cell_type": "code",
   "execution_count": 117,
   "metadata": {},
   "outputs": [],
   "source": [
    "sys_instruct = \"\"\"\n",
    "You are a text formatting assistant specializing in data preparation for databases. When given an array of elements, follow these precise instructions:\n",
    "\n",
    "- Accept any array of string elements.\n",
    "- Convert all characters to lowercase.\n",
    "- Replace all spaces and special characters (e.g., apostrophes) with underscores (`_`).\n",
    "- **Ensure the final output is a single, strictly comma-separated string with no spaces between elements and no trailing comma.**\n",
    "\n",
    "**Example Input:**\n",
    "Name,Code,Compilation,Système d'exploitation 2,Moyenne UE 1,Crédit UE 1,Génie Logiciel 2,Interface Machine Homme,Moyenne UE 2,Crédit UE 2,Probabilités et Statistiques,Programmation Linéaire,Moyenne UE 3,Crédit UE 3,Economie et veille stratégique numérique,Moyenne UE 4,Crédit UE 4,Crédits du Semestre,Moyenne du Semestre\n",
    "\n",
    "**Expected Output:**\n",
    "`name,code,compilation,systeme_d_exploitation_2,moyenne_ue_1,credit_ue_1,genie_logiciel_2,interface_machine_homme,moyenne_ue_2,credit_ue_2,probabilites_et_statistiques,programmation_lineaire,moyenne_ue_3,credit_ue_3,economie_et_veille_strategique_numerique,moyenne_ue_4,credit_ue_4,credits_du_semestre,moyenne_du_semestre`\n",
    "\n",
    "Respond only with the formatted output unless otherwise instructed.\n",
    "\"\"\"\n",
    "\n",
    "def generate_db_names(names):\n",
    "    response = client_llm.models.generate_content(\n",
    "    model=\"gemini-2.0-flash\",\n",
    "    config=types.GenerateContentConfig(\n",
    "        system_instruction=sys_instruct),\n",
    "    contents=[names],\n",
    "    )\n",
    "    return response.text"
   ]
  },
  {
   "cell_type": "code",
   "execution_count": 118,
   "metadata": {},
   "outputs": [
    {
     "name": "stdout",
     "output_type": "stream",
     "text": [
      "{'Name': 'name', 'Code': 'code', 'Compilation': 'compilation', \"Système d'exploitation 2\": 'systeme_d_exploitation_2', 'Moyenne UE 1': 'moyenne_ue_1', 'Crédit UE 1': 'credit_ue_1', 'Génie Logiciel 2': 'genie_logiciel_2', 'Interface Machine Homme': 'interface_machine_homme', 'Moyenne UE 2': 'moyenne_ue_2', 'Crédit UE 2': 'credit_ue_2', 'Probabilités et Statistiques': 'probabilites_et_statistiques', 'Programmation Linéaire': 'programmation_lineaire', 'Moyenne UE 3': 'moyenne_ue_3', 'Crédit UE 3': 'credit_ue_3', 'Economie et veille numérique stratégique': 'economie_et_veille_numerique_strategique', 'Moyenne UE 4': 'moyenne_ue_4', 'Crédit UE 4': 'credit_ue_4', 'Crédits du Semestre': 'credits_du_semestre', 'Moyenne du Semestre': 'moyenne_du_semestre'}\n"
     ]
    }
   ],
   "source": [
    "# creating mappings & db column names\n",
    "db_cols = generate_db_names(\",\".join(data.columns.to_list())).split(\",\")\n",
    "db_cols = remove_newlines(db_cols)\n",
    "cols = data.columns.to_list()\n",
    "mappings = dict(zip(cols, db_cols))\n",
    "print(mappings)"
   ]
  },
  {
   "cell_type": "code",
   "execution_count": 119,
   "metadata": {},
   "outputs": [
    {
     "name": "stdout",
     "output_type": "stream",
     "text": [
      "\n",
      "CREATE TABLE IF NOT EXISTS analysis_Deliberation_2024_2025_L3_S5 (\n",
      "    id UUID DEFAULT gen_random_uuid() PRIMARY KEY,\n",
      "    name text, code text, compilation float8, systeme_d_exploitation_2 float8, moyenne_ue_1 float8, credit_ue_1 int8, genie_logiciel_2 float8, interface_machine_homme float8, moyenne_ue_2 float8, credit_ue_2 int8, probabilites_et_statistiques float8, programmation_lineaire float8, moyenne_ue_3 float8, credit_ue_3 int8, economie_et_veille_numerique_strategique float8, moyenne_ue_4 float8, credit_ue_4 int8, credits_du_semestre int8, moyenne_du_semestre float8\n",
      ")\n",
      "\n",
      "{'name': 'text', 'code': 'text', 'compilation': 'float8', 'systeme_d_exploitation_2': 'float8', 'moyenne_ue_1': 'float8', 'credit_ue_1': 'int8', 'genie_logiciel_2': 'float8', 'interface_machine_homme': 'float8', 'moyenne_ue_2': 'float8', 'credit_ue_2': 'int8', 'probabilites_et_statistiques': 'float8', 'programmation_lineaire': 'float8', 'moyenne_ue_3': 'float8', 'credit_ue_3': 'int8', 'economie_et_veille_numerique_strategique': 'float8', 'moyenne_ue_4': 'float8', 'credit_ue_4': 'int8', 'credits_du_semestre': 'int8', 'moyenne_du_semestre': 'float8'}\n"
     ]
    }
   ],
   "source": [
    "schema = []\n",
    "table_cols = data.columns.to_list()\n",
    "\n",
    "for col in table_cols:\n",
    "    is_int = is_integer_dtype(data[col])\n",
    "    is_float = is_float_dtype(data[col])\n",
    "    is_object = is_object_dtype(data[col])\n",
    "\n",
    "    if is_float:\n",
    "        schema.append([mappings[col], \"float8\"])\n",
    "    if is_int:\n",
    "        schema.append([mappings[col], \"int8\"])\n",
    "    if is_object:\n",
    "        schema.append([mappings[col], \"text\"])\n",
    "\n",
    "\n",
    "dict_schema = dict(schema)\n",
    "# table name \n",
    "table_name = f\"analysis_{file_name}\"\n",
    "columns = \", \".join([f\"{col} {dtype}\" for col, dtype in dict_schema.items()])\n",
    "\n",
    "# table creation query\n",
    "create_table_query = f\"\"\"\n",
    "CREATE TABLE IF NOT EXISTS {table_name} (\n",
    "    id UUID DEFAULT gen_random_uuid() PRIMARY KEY,\n",
    "    {columns}\n",
    ")\n",
    "\"\"\"\n",
    "\n",
    "# transforming col names\n",
    "data.columns = [mappings[col] for col in data.columns]\n",
    "\n",
    "print(create_table_query)\n",
    "print(dict_schema)"
   ]
  },
  {
   "cell_type": "code",
   "execution_count": 120,
   "metadata": {},
   "outputs": [
    {
     "name": "stdout",
     "output_type": "stream",
     "text": [
      "Connection successful!\n",
      "Table 'analysis_Deliberation_2024_2025_L3_S5' created successfully.\n"
     ]
    }
   ],
   "source": [
    "conn_details = {\n",
    "    \"dbname\": os.getenv(\"DB_NAME\"),\n",
    "    \"user\": os.getenv(\"DB_USER\"),\n",
    "    \"password\": os.getenv(\"DB_PASSWORD\"),\n",
    "    \"host\": os.getenv(\"DB_HOST\"),\n",
    "    \"port\": os.getenv(\"DB_PORT\"),\n",
    "    \"sslmode\": os.getenv(\"DB_SSLMODE\")\n",
    "}\n",
    "\n",
    "\n",
    "\n",
    "try:\n",
    "    conn = psycopg2.connect(**conn_details)\n",
    "    print(\"Connection successful!\")\n",
    "\n",
    "    cursor = conn.cursor()\n",
    "    cursor.execute(\n",
    "        sql.SQL(\"\"\"\n",
    "            SELECT EXISTS (\n",
    "                SELECT 1 FROM information_schema.tables\n",
    "                WHERE table_name = %s\n",
    "            );\n",
    "        \"\"\"),\n",
    "        [table_name]\n",
    "    )\n",
    "\n",
    "    table_exists = cursor.fetchone()[0]\n",
    "\n",
    "    if table_exists:\n",
    "        print(f\"Table '{table_name}' already exists.\")\n",
    "    else:\n",
    "        cursor.execute(create_table_query)\n",
    "        conn.commit()\n",
    "        print(f\"Table '{table_name}' created successfully.\")\n",
    "\n",
    "    cursor.close()\n",
    "    conn.close()\n",
    "\n",
    "except Exception as e:\n",
    "    print(f\"Failed to connect or execute query: {e}\")\n"
   ]
  },
  {
   "cell_type": "code",
   "execution_count": 123,
   "metadata": {},
   "outputs": [
    {
     "name": "stdout",
     "output_type": "stream",
     "text": [
      "Records inserted successfully\n"
     ]
    }
   ],
   "source": [
    "# inserting data\n",
    "i = 0\n",
    "records = data.to_dict(orient=\"records\")\n",
    "response = client.table(table_name.lower()).insert(records).execute()\n",
    "print(\"Records inserted successfully\")"
   ]
  }
 ],
 "metadata": {
  "kernelspec": {
   "display_name": ".venv",
   "language": "python",
   "name": "python3"
  },
  "language_info": {
   "codemirror_mode": {
    "name": "ipython",
    "version": 3
   },
   "file_extension": ".py",
   "mimetype": "text/x-python",
   "name": "python",
   "nbconvert_exporter": "python",
   "pygments_lexer": "ipython3",
   "version": "3.13.2"
  }
 },
 "nbformat": 4,
 "nbformat_minor": 2
}
